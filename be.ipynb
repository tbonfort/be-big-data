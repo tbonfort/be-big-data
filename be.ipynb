{
 "cells": [
  {
   "cell_type": "code",
   "execution_count": null,
   "metadata": {},
   "outputs": [],
   "source": [
    "import os\n",
    "import glob\n",
    "import rasterio as rio\n",
    "from rasterio.windows import Window\n",
    "import rasterio.plot as rp\n",
    "\n",
    "\n",
    "if \"GOOGLE_APPLICATION_CREDENTIALS\" not in os.environ:\n",
    "    adcfiles = glob.glob(f\"{os.environ['HOME']}/.config/gcloud/legacy_credentials/*/adc.json\")\n",
    "    if len(adcfiles)==1:\n",
    "        print(f\"using {adcfiles[0]} for GCP credentials\")\n",
    "        os.environ[\"GOOGLE_APPLICATION_CREDENTIALS\"]=adcfiles[0]\n",
    "    else:\n",
    "        raise Exception(\"no GCP credentials found, have you run 'gcloud auth login' ?\")\n",
    "\n",
    "\n"
   ]
  },
  {
   "cell_type": "markdown",
   "metadata": {},
   "source": [
    "Inspecter la liste des tuiles S2 disponibles:\n",
    "\n",
    "    gsutil ls -l gs://tb-be-bigdata/t31tcj/\n",
    "\n",
    "et selectionner une tuile pour faire quelques visualisations (choisir une tuile plutot grosse afin\n",
    "de ne pas tomber sur une tuile completement nuageuse ou partiellement couverte)."
   ]
  },
  {
   "cell_type": "code",
   "execution_count": null,
   "metadata": {},
   "outputs": [],
   "source": [
    "s2_tile='gs://tb-be-bigdata/t31tcj/T31TCJ_20230709T104629_TCI.tif'\n",
    "\n",
    "with rio.open(s2_tile) as st:\n",
    "    print(f'size = {st.width}x{st.height} pixels')\n",
    "    print(f'{len(st.indexes)} bands (channels) of type {st.dtypes[0]}')\n",
    "    print(f'bounds = {st.bounds}')\n",
    "    print(f'projection = {st.crs}')\n",
    "    "
   ]
  },
  {
   "cell_type": "markdown",
   "metadata": {},
   "source": [
    "La quantité de données à visualiser est trop grosse pour être affichée confortablement en pleine résolution\n",
    "(i.e. sans avoir à trop attendre et/ou sans consommer trop de temps cpu)"
   ]
  },
  {
   "cell_type": "code",
   "execution_count": null,
   "metadata": {},
   "outputs": [],
   "source": [
    "#affichons la donnée complete depuis une overview (=une version sous-echantillonnée précalculée)\n",
    "#https://rasterio.readthedocs.io/en/stable/api/rasterio.io.html#rasterio.io.DatasetReader.read\n",
    "with rio.open(s2_tile) as st:\n",
    "    ovr = st.read(out_shape=(3,st.height//32,st.width//32))\n",
    "    rp.show(ovr)"
   ]
  },
  {
   "cell_type": "code",
   "execution_count": null,
   "metadata": {},
   "outputs": [],
   "source": [
    "#affichons un extrait de 200x200px en pleine resolution\n",
    "# https://rasterio.readthedocs.io/en/stable/api/rasterio.windows.html#rasterio.windows.Window\n",
    "with rio.open(s2_tile) as st:\n",
    "    extract = st.read(window=Window(5000,5000,200,200), out_shape=(3,200,200))\n",
    "    rp.show(extract)\n",
    "\n"
   ]
  },
  {
   "cell_type": "code",
   "execution_count": null,
   "metadata": {},
   "outputs": [],
   "source": [
    "# affichons un extrait de 200x200px autour du centre de toulouse (longitude=1.4395871 latitude=43.5943521)\n",
    "# https://pyproj4.github.io/pyproj/stable/examples.html#transformations-from-crs-to-crs\n",
    "# https://github.com/rasterio/affine\n",
    "from pyproj import CRS\n",
    "from pyproj import Transformer\n",
    "with rio.open(s2_tile) as st:\n",
    "    transformer = Transformer.from_crs('EPSG:4326', st.crs) #EPSG:4326 is lat/lon\n",
    "    utm_x, utm_y = transformer.transform(43.5943521,1.4395871)\n",
    "    utm_to_pix = ~st.transform\n",
    "    pix_x,pix_y = utm_to_pix*(utm_x,utm_y)\n",
    "    extract = st.read(window=Window(pix_x-100,pix_y-100,200,200))\n",
    "    rp.show(extract)"
   ]
  },
  {
   "cell_type": "markdown",
   "metadata": {},
   "source": [
    "# worker\n",
    "\n",
    "suivre les instructions du README afin de deployer un service autoscalable permettant de traiter des taches de\n",
    "traitement d'image en parallele."
   ]
  },
  {
   "cell_type": "markdown",
   "metadata": {},
   "source": [
    "# dispatcher\n",
    "\n",
    "ce code permet de generer les payloads JSON permettant de traiter l'ensemble de l'image, en decoupant à la tuile de\n",
    "1024x1024"
   ]
  },
  {
   "cell_type": "code",
   "execution_count": null,
   "metadata": {},
   "outputs": [],
   "source": [
    "#remplacer ces 2 variables par votre propre conf\n",
    "GCPPROJECT=\"solar-climber-412810\"\n",
    "RESULTBUCKET=\"tb-be-bigdata\"\n",
    "RESULTDIR=\"results\""
   ]
  },
  {
   "cell_type": "code",
   "execution_count": null,
   "metadata": {},
   "outputs": [],
   "source": [
    "from google.cloud import storage\n",
    "from google.cloud import pubsub_v1\n",
    "import json\n",
    "import requests\n",
    "import base64\n",
    "\n",
    "TOPIC=\"bebigdata\"\n",
    "\n",
    "storage_client = storage.Client(project=GCPPROJECT)\n",
    "pubsub_client = pubsub_v1.PublisherClient()\n",
    "topic_name = f'projects/{GCPPROJECT}/topics/{TOPIC}'\n",
    "#\n",
    "\n",
    "s2tiles = list(storage_client.list_blobs(\"tb-be-bigdata\",prefix=\"t31tcj/\"))\n",
    "s2tiles = [f\"gs://tb-be-bigdata/{b.name}\" for b in s2tiles if b.name.endswith(\"TCI.tif\")]\n",
    "\n",
    "tilesize=1024\n",
    "image_height=10980\n",
    "image_width=10980\n",
    "# for testing/debugging, only launch a single tile\n",
    "#image_height=1024\n",
    "#image_width=1024\n",
    "\n",
    "for x in range(0,image_width,tilesize):\n",
    "    tile_width = tilesize\n",
    "    if x+tilesize > image_width:\n",
    "        tile_width = image_width - x\n",
    "    for y in range(0,image_height,tilesize):\n",
    "        tile_height = tilesize\n",
    "        if y+tilesize > image_height:\n",
    "            tile_height = image_height - y\n",
    "        \n",
    "        payload = {\n",
    "            \"datasets\": s2tiles,\n",
    "            \"window\": [x,y,tile_width,tile_height],\n",
    "            \"destination\": f\"gs://{RESULTBUCKET}/{RESULTDIR}/tile_{x}_{y}.tif\",\n",
    "            #\"destination\": f\"tile_{x}_{y}.tif\",\n",
    "\n",
    "        }\n",
    "\n",
    "        # pubsub version\n",
    "        future = pubsub_client.publish(topic_name, json.dumps(payload).encode(\"utf-8\"))\n",
    "        future.result()\n",
    "        continue\n",
    "\n",
    "        # http version\n",
    "        http_payload = {\n",
    "            \"message\": {\n",
    "                \"data\": str(base64.b64encode(json.dumps(payload).encode(\"utf-8\")), \"utf-8\")\n",
    "            }\n",
    "        }\n",
    "        data=json.dumps(http_payload)\n",
    "        resp = requests.post(f\"http://localhost:8080/median\", data=data , headers={\"Content-Type\":\"application/json\"})\n",
    "        print(resp.text)\n"
   ]
  },
  {
   "cell_type": "markdown",
   "metadata": {},
   "source": [
    "# visualisation du résultat"
   ]
  },
  {
   "cell_type": "code",
   "execution_count": null,
   "metadata": {},
   "outputs": [],
   "source": [
    "#affichage d'une seule tuile\n",
    "result_tile = f\"gs://{RESULTBUCKET}/{RESULTDIR}/tile_7168_3072.tif\"\n",
    "with rio.open(result_tile) as st:\n",
    "    extract = st.read(out_shape=(3,512,512))\n",
    "    rp.show(extract)\n"
   ]
  },
  {
   "cell_type": "markdown",
   "metadata": {},
   "source": [
    "recontruction d'une image COG complete assemblant chacune des tuiles individuelles"
   ]
  },
  {
   "cell_type": "code",
   "execution_count": null,
   "metadata": {},
   "outputs": [],
   "source": [
    "import subprocess\n",
    "from google.cloud.storage.blob import Blob\n",
    "from google.cloud import storage\n",
    "\n",
    "storage_client = storage.Client(project=GCPPROJECT)\n",
    "#\n",
    "\n",
    "result_tiles = list(storage_client.list_blobs(RESULTBUCKET,prefix=f\"{RESULTDIR}/\"))\n",
    "result_tiles = [f\"gs://{RESULTBUCKET}/{b.name}\" for b in result_tiles if b.name.endswith(\".tif\")]\n",
    "f = open(\"results.lst\",\"w\")\n",
    "for t in result_tiles:\n",
    "    local_file = t.split(\"/\")[-1]\n",
    "    blob = Blob.from_string(t, storage_client)\n",
    "    blob.download_to_filename(local_file)\n",
    "    f.write(f\"{local_file}\\n\")\n",
    "f.close()\n",
    "\n",
    "!gdalbuildvrt -input_file_list results.lst results.vrt\n",
    "\n",
    "with rio.open(\"results.vrt\") as st:\n",
    "    profile = st.profile\n",
    "    profile[\"driver\"]=\"COG\"\n",
    "    profile[\"compress\"]=\"JPEG\"\n",
    "    profile[\"tiled\"]=True\n",
    "    profile[\"blocksize\"]=256\n",
    "    profile[\"quality\"]=90\n",
    "    with rio.open(\"results.tif\", \"w\", **profile) as dst:\n",
    "        dst.write(st.read())\n",
    "\n",
    "for t in result_tiles:\n",
    "    local_file = t.split(\"/\")[-1]\n",
    "    os.remove(local_file)\n",
    "os.remove(\"results.lst\")\n",
    "os.remove(\"results.vrt\")\n",
    "blob = Blob.from_string(f\"gs://{RESULTBUCKET}/median.tif\", storage_client)\n",
    "blob.upload_from_filename(\"results.tif\")\n",
    "os.remove(\"results.tif\")\n"
   ]
  },
  {
   "cell_type": "code",
   "execution_count": null,
   "metadata": {},
   "outputs": [],
   "source": [
    "median_result = f\"gs://{RESULTBUCKET}/median.tif\"\n",
    "with rio.open(median_result) as st:\n",
    "    overview = st.read(out_shape=(3,512,512))\n",
    "    rp.show(overview)"
   ]
  }
 ],
 "metadata": {
  "kernelspec": {
   "display_name": "Python 3",
   "language": "python",
   "name": "python3"
  },
  "language_info": {
   "codemirror_mode": {
    "name": "ipython",
    "version": 3
   },
   "file_extension": ".py",
   "mimetype": "text/x-python",
   "name": "python",
   "nbconvert_exporter": "python",
   "pygments_lexer": "ipython3",
   "version": "3.10.13"
  }
 },
 "nbformat": 4,
 "nbformat_minor": 2
}
