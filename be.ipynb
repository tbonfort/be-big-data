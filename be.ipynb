{
 "cells": [
  {
   "cell_type": "markdown",
   "metadata": {},
   "source": [
    "# Initial setup\n",
    "\n",
    "**GCP Credentials**\n",
    "\n",
    "From a terminal, run the following command to login to your GCP account.\n",
    "\n",
    "<div class=\"alert alert-block alert-info\">\n",
    "Do not run this command from this notebook, use the built-in terminal\n",
    "</div>\n"
   ]
  },
  {
   "cell_type": "code",
   "execution_count": null,
   "metadata": {
    "vscode": {
     "languageId": "shellscript"
    }
   },
   "outputs": [],
   "source": [
    "gcloud auth login --update-adc"
   ]
  },
  {
   "cell_type": "markdown",
   "metadata": {},
   "source": [
    "\n",
    "**Configuration**\n",
    "\n",
    "Modify the `GCPPROJECT` and `BUCKETNAME` variables before running the next code block.\n",
    "\n",
    "You can find your GCP project ID by navigating to https://console.cloud.google.com/welcome\n",
    "\n",
    "![title](assets/gcpproject.png)\n",
    "\n",
    "For the `BUCKETNAME` variable you should choose a globally unique name. For more\n",
    "details about bucket naming, see https://cloud.google.com/storage/docs/buckets\n"
   ]
  },
  {
   "cell_type": "code",
   "execution_count": null,
   "metadata": {},
   "outputs": [],
   "source": [
    "import os\n",
    "import glob\n",
    "import rasterio as rio\n",
    "from rasterio.windows import Window\n",
    "import rasterio.plot as rp\n",
    "\n",
    "# change these 2 variables\n",
    "GCPPROJECT=\"solar-climber-412810\"\n",
    "BUCKETNAME=\"tb-be-bigdata\"\n",
    "\n",
    "# leave the following unchanged\n",
    "RESULTDIR=\"results\"\n",
    "SERVICE_NAME=\"bebigdata\"\n",
    "DOCKER_IMAGE=f\"eu.gcr.io/{GCPPROJECT}/be:202401\"\n",
    "\n",
    "os.environ[\"GCPPROJECT\"]=GCPPROJECT\n",
    "os.environ[\"BUCKETNAME\"]=BUCKETNAME\n",
    "os.environ[\"SERVICE_NAME\"]=SERVICE_NAME\n",
    "os.environ[\"DOCKER_IMAGE\"]=DOCKER_IMAGE\n",
    "os.environ[\"SAEMAIL\"]=f\"{SERVICE_NAME}@{GCPPROJECT}.iam.gserviceaccount.com\"\n",
    "os.environ[\"GOOGLE_APPLICATION_CREDENTIALS\"]=f\"{os.environ[\"HOME\"]}/.config/gcloud/application_default_credentials.json\"\n"
   ]
  },
  {
   "cell_type": "markdown",
   "metadata": {},
   "source": [
    "We will now create the GCP ressources needed by this course:"
   ]
  },
  {
   "cell_type": "code",
   "execution_count": null,
   "metadata": {
    "vscode": {
     "languageId": "shellscript"
    }
   },
   "outputs": [],
   "source": [
    "%%bash\n",
    "\n",
    "gcloud config set project $GCPPROJECT\n",
    "gcloud --project=$GCPPROJECT storage buckets create gs://$BUCKETNAME --default-storage-class=standard --location=europe-west1\n",
    "\n",
    "\n",
    "gcloud --project=$GCPPROJECT iam service-accounts create $SERVICE_NAME\n",
    "gcloud --project=$GCPPROJECT services enable containerregistry.googleapis.com\n",
    "gcloud --project=$GCPPROJECT services enable run.googleapis.com\n",
    "gcloud --project=$GCPPROJECT services enable pubsub.googleapis.com\n",
    "gcloud --project=$GCPPROJECT auth configure-docker\n",
    "\n",
    "gcloud --project=$GCPPROJECT storage buckets add-iam-policy-binding gs://$BUCKETNAME \\\n",
    "    --member=serviceAccount:$SAEMAIL \\\n",
    "    --role=roles/storage.objectAdmin"
   ]
  },
  {
   "cell_type": "markdown",
   "metadata": {},
   "source": [
    "Inspecter la liste des tuiles S2 disponibles:"
   ]
  },
  {
   "cell_type": "code",
   "execution_count": null,
   "metadata": {
    "vscode": {
     "languageId": "shellscript"
    }
   },
   "outputs": [],
   "source": [
    "! gsutil ls -l gs://tb-be-bigdata/t31tcj/"
   ]
  },
  {
   "cell_type": "markdown",
   "metadata": {},
   "source": [
    "\n",
    "et selectionner une tuile pour faire quelques visualisations (choisir une tuile plutot grosse afin\n",
    "de ne pas tomber sur une tuile completement nuageuse ou partiellement couverte)."
   ]
  },
  {
   "cell_type": "code",
   "execution_count": null,
   "metadata": {},
   "outputs": [],
   "source": [
    "s2_tile='gs://tb-be-bigdata/t31tcj/T31TCJ_20230709T104629_TCI.tif'\n",
    "\n",
    "with rio.open(s2_tile) as st:\n",
    "    print(f'size = {st.width}x{st.height} pixels')\n",
    "    print(f'{len(st.indexes)} bands (channels) of type {st.dtypes[0]}')\n",
    "    print(f'bounds = {st.bounds}')\n",
    "    print(f'projection = {st.crs}')\n",
    "    "
   ]
  },
  {
   "cell_type": "markdown",
   "metadata": {},
   "source": [
    "La quantité de données à visualiser est trop grosse pour être affichée confortablement en pleine résolution\n",
    "(i.e. sans avoir à trop attendre et/ou sans consommer trop de temps cpu)"
   ]
  },
  {
   "cell_type": "code",
   "execution_count": null,
   "metadata": {},
   "outputs": [],
   "source": [
    "#affichons la donnée complete depuis une overview (=une version sous-echantillonnée précalculée)\n",
    "#https://rasterio.readthedocs.io/en/stable/api/rasterio.io.html#rasterio.io.DatasetReader.read\n",
    "with rio.open(s2_tile) as st:\n",
    "    ovr = st.read(out_shape=(3,st.height//32,st.width//32))\n",
    "    rp.show(ovr)"
   ]
  },
  {
   "cell_type": "code",
   "execution_count": null,
   "metadata": {},
   "outputs": [],
   "source": [
    "#affichons un extrait de 200x200px en pleine resolution\n",
    "# https://rasterio.readthedocs.io/en/stable/api/rasterio.windows.html#rasterio.windows.Window\n",
    "with rio.open(s2_tile) as st:\n",
    "    extract = st.read(window=Window(5000,5000,200,200), out_shape=(3,200,200))\n",
    "    rp.show(extract)\n",
    "\n"
   ]
  },
  {
   "cell_type": "code",
   "execution_count": null,
   "metadata": {},
   "outputs": [],
   "source": [
    "# affichons un extrait de 200x200px autour du centre de toulouse (longitude=1.4395871 latitude=43.5943521)\n",
    "# https://pyproj4.github.io/pyproj/stable/examples.html#transformations-from-crs-to-crs\n",
    "# https://github.com/rasterio/affine\n",
    "from pyproj import CRS\n",
    "from pyproj import Transformer\n",
    "with rio.open(s2_tile) as st:\n",
    "    transformer = Transformer.from_crs('EPSG:4326', st.crs) #EPSG:4326 is lat/lon\n",
    "    utm_x, utm_y = transformer.transform(43.5943521,1.4395871)\n",
    "    utm_to_pix = ~st.transform\n",
    "    pix_x,pix_y = utm_to_pix*(utm_x,utm_y)\n",
    "    extract = st.read(window=Window(pix_x-100,pix_y-100,200,200))\n",
    "    rp.show(extract)"
   ]
  },
  {
   "cell_type": "markdown",
   "metadata": {},
   "source": [
    "# worker\n",
    "\n",
    "we will be creating a program that exposes an HTTP endpoint that receives\n",
    "request with a payload of the form\n",
    "\n",
    "```json\n",
    "{\n",
    "    \"window\":[x0,y0,width,height],\n",
    "    \"destination\":\"gs://bucket/path-to-result-tile.tif\",\n",
    "    \"datasets\":[\"gs://bucket/prefix/T31TCJ_20230102T104441_TCI.tif\",\n",
    "        \"gs://bucket/prefix/T31TCJ_20230103T110349_TCI.tif\",\n",
    "        \"....and 214 more...\"]\n",
    "}\n",
    "```\n",
    "upon receiving an HTTP request, the program should:\n",
    "\n",
    "- decode the json payload\n",
    "- for each dataset, extract the buffer of shape (3,width,height) starting at (x0,y0)\n",
    "- create a resulting buffer of shape (3,width,height) where each pixel corresponds to\n",
    "  the rgb triplet of median luminance, after having filtered out samples that are equal\n",
    "  to 0 (no data, i.e. outide the satellite swath) or 255 (saturated, most likely cloud)\n",
    "- upload the resulting buffer as a COG file to the requested destination"
   ]
  },
  {
   "cell_type": "markdown",
   "metadata": {},
   "source": [
    "\n",
    "## implementation\n",
    "\n",
    "An example implementation can be found in the [worker.py](./worker.py) file.\n",
    "\n",
    "we will first test this code locally on a single tile.\n",
    "return to the `dispatcher` code from the notebook to understand how we will be\n",
    "creating json payloads that can be processed by our worker program.\n",
    "\n",
    "from a terminal, run a local webserver that exposes our worker code with:\n",
    "\n",
    "<div class=\"alert alert-block alert-info\">\n",
    "Do not run this command from this notebook, use the built-in terminal\n",
    "</div>\n"
   ]
  },
  {
   "cell_type": "code",
   "execution_count": null,
   "metadata": {
    "vscode": {
     "languageId": "shellscript"
    }
   },
   "outputs": [],
   "source": [
    "gunicorn --bind :8080 --workers 1 --threads 1 --timeout 0 worker:app --reload"
   ]
  },
  {
   "cell_type": "markdown",
   "metadata": {},
   "source": [
    "\n",
    "and then run the notebook's dispatch block. check the logs of our worker and\n",
    "make sure that our resulting tile is now available on our bucket."
   ]
  },
  {
   "cell_type": "markdown",
   "metadata": {},
   "source": [
    "# dispatcher\n",
    "\n",
    "ce code permet de generer les payloads JSON permettant de traiter l'ensemble de l'image, en decoupant à la tuile de\n",
    "1024x1024"
   ]
  },
  {
   "cell_type": "code",
   "execution_count": null,
   "metadata": {},
   "outputs": [],
   "source": [
    "from google.cloud import storage\n",
    "from google.cloud import pubsub_v1\n",
    "import json\n",
    "import requests\n",
    "import base64\n",
    "\n",
    "\n",
    "storage_client = storage.Client(project=GCPPROJECT)\n",
    "pubsub_client = pubsub_v1.PublisherClient()\n",
    "topic_name = f'projects/{GCPPROJECT}/topics/{SERVICE_NAME}'\n",
    "#\n",
    "\n",
    "s2tiles = list(storage_client.list_blobs(\"tb-be-bigdata\",prefix=\"t31tcj/\"))\n",
    "s2tiles = [f\"gs://tb-be-bigdata/{b.name}\" for b in s2tiles if b.name.endswith(\"TCI.tif\")]\n",
    "\n",
    "tilesize=1024\n",
    "image_height=10980\n",
    "image_width=10980\n",
    "# for testing/debugging, only launch a single tile\n",
    "image_height=1024\n",
    "image_width=1024\n",
    "\n",
    "for x in range(0,image_width,tilesize):\n",
    "    tile_width = tilesize\n",
    "    if x+tilesize > image_width:\n",
    "        tile_width = image_width - x\n",
    "    for y in range(0,image_height,tilesize):\n",
    "        tile_height = tilesize\n",
    "        if y+tilesize > image_height:\n",
    "            tile_height = image_height - y\n",
    "        \n",
    "        payload = {\n",
    "            \"datasets\": s2tiles,\n",
    "            \"window\": [x,y,tile_width,tile_height],\n",
    "            \"destination\": f\"gs://{BUCKETNAME}/{RESULTDIR}/tile_{x}_{y}.tif\",\n",
    "            #\"destination\": f\"tile_{x}_{y}.tif\",\n",
    "\n",
    "        }\n",
    "\n",
    "        # pubsub version\n",
    "        #future = pubsub_client.publish(topic_name, json.dumps(payload).encode(\"utf-8\"))\n",
    "        #future.result()\n",
    "        #continue\n",
    "\n",
    "        # http version\n",
    "        http_payload = {\n",
    "            \"message\": {\n",
    "                \"data\": str(base64.b64encode(json.dumps(payload).encode(\"utf-8\")), \"utf-8\")\n",
    "            }\n",
    "        }\n",
    "        data=json.dumps(http_payload)\n",
    "        resp = requests.post(f\"http://localhost:8081/median\", data=data , headers={\"Content-Type\":\"application/json\"})\n",
    "        print(resp.text)\n"
   ]
  },
  {
   "cell_type": "markdown",
   "metadata": {},
   "source": [
    "\n",
    "## docker\n",
    "\n",
    "https://docs.docker.com/get-started/overview/#the-docker-platform\n",
    "\n",
    "Once your code is working correctly, build it as a docker image so that it can\n",
    "be hosted on another platform. \n"
   ]
  },
  {
   "cell_type": "code",
   "execution_count": null,
   "metadata": {
    "vscode": {
     "languageId": "shellscript"
    }
   },
   "outputs": [],
   "source": [
    "! docker build -t $DOCKER_IMAGE .\n",
    "! docker push $DOCKER_IMAGE"
   ]
  },
  {
   "cell_type": "markdown",
   "metadata": {},
   "source": [
    "we can also run this code locally directly from the docker image, on the :8081 port:\n",
    "<div class=\"alert alert-block alert-info\">\n",
    "Do not run this command from this notebook, use the built-in terminal\n",
    "</div>"
   ]
  },
  {
   "cell_type": "code",
   "execution_count": null,
   "metadata": {
    "vscode": {
     "languageId": "shellscript"
    }
   },
   "outputs": [],
   "source": [
    "docker run -t -e PORT=8081 -p 8081:8081 $DOCKER_IMAGE"
   ]
  },
  {
   "cell_type": "markdown",
   "metadata": {},
   "source": [
    "\n",
    "modify the dispatch code so that your test request is sent to this docker instance.\n",
    "this time the request will fail. why did it fail?\n",
    "\n",
    "bonus: modify the previous `docker run` command so that it runs correctly. hint: use\n",
    "a docker volume to mount your local credentials so they are accessible to the userid\n",
    "running the code in the docker container.\n",
    "\n",
    "```bash\n",
    "docker run -t -e PORT=8081 -p 8081:8081 -v $HOME/.config/gcloud:/root/.config/gcloud $DOCKER_IMAGE\n",
    "```"
   ]
  },
  {
   "cell_type": "markdown",
   "metadata": {},
   "source": [
    "\n",
    "## cloud run\n",
    "\n",
    "Cloud Run is a managed compute platform that lets you run containers directly on top of Google's\n",
    "scalable infrastructure. You can deploy code written in any programming language on Cloud Run\n",
    "if you can build a container image from it.\n",
    "\n",
    "https://cloud.google.com/run/docs/overview/what-is-cloud-run\n",
    "\n",
    "https://console.cloud.google.com/run\n",
    "\n",
    "\n",
    "```bash\n",
    "gcloud --project=$GCPPROJECT run deploy $MYNAME --image $DIMAGE --allow-unauthenticated \\\n",
    "--service-account=$SAEMAIL --region=europe-west1 \\\n",
    "--set-env-vars=CPL_MACHINE_IS_GCE=YES \\\n",
    "--memory 2048M --concurrency=1 --max-instances=50\n",
    "```\n",
    "The command will print out on which URL your service is listening.\n",
    "```bash\n",
    "# you MUST edit this to replace with the url printed out\n",
    "export RUNURL=https://bebigdata-xxxx-yyyy-zzzz.a.run.app\n",
    "```\n",
    "\n",
    "Adapt the dispatch code to stop sending http requests to localhost, but instead\n",
    "point them to the $RUNURL/median endpoint on cloud run. Post a single tile to\n",
    "that endpoint and check the cloud run logs that the tile has been processed\n",
    "without errors.\n",
    "\n",
    "This time the code running from the exact same docker image did not fail with permission\n",
    "errors, why? https://cloud.google.com/run/docs/securing/service-identity"
   ]
  },
  {
   "cell_type": "markdown",
   "metadata": {},
   "source": [
    "# visualisation du résultat"
   ]
  },
  {
   "cell_type": "code",
   "execution_count": null,
   "metadata": {},
   "outputs": [],
   "source": [
    "#affichage d'une seule tuile\n",
    "result_tile = f\"gs://{BUCKETNAME}/{RESULTDIR}/tile_0_0.tif\"\n",
    "with rio.open(result_tile) as st:\n",
    "    extract = st.read(out_shape=(3,512,512))\n",
    "    rp.show(extract)\n"
   ]
  },
  {
   "cell_type": "markdown",
   "metadata": {},
   "source": [
    "recontruction d'une image COG complete assemblant chacune des tuiles individuelles"
   ]
  },
  {
   "cell_type": "code",
   "execution_count": null,
   "metadata": {},
   "outputs": [],
   "source": [
    "import subprocess\n",
    "from google.cloud.storage.blob import Blob\n",
    "from google.cloud import storage\n",
    "\n",
    "storage_client = storage.Client(project=GCPPROJECT)\n",
    "#\n",
    "\n",
    "result_tiles = list(storage_client.list_blobs(BUCKETNAME,prefix=f\"{RESULTDIR}/\"))\n",
    "result_tiles = [f\"gs://{BUCKETNAME}/{b.name}\" for b in result_tiles if b.name.endswith(\".tif\")]\n",
    "f = open(\"results.lst\",\"w\")\n",
    "for t in result_tiles:\n",
    "    local_file = t.split(\"/\")[-1]\n",
    "    blob = Blob.from_string(t, storage_client)\n",
    "    blob.download_to_filename(local_file)\n",
    "    f.write(f\"{local_file}\\n\")\n",
    "f.close()\n",
    "\n",
    "!gdalbuildvrt -input_file_list results.lst results.vrt\n",
    "\n",
    "with rio.open(\"results.vrt\") as st:\n",
    "    profile = st.profile\n",
    "    profile[\"driver\"]=\"COG\"\n",
    "    profile[\"compress\"]=\"JPEG\"\n",
    "    profile[\"tiled\"]=True\n",
    "    profile[\"blocksize\"]=256\n",
    "    profile[\"quality\"]=90\n",
    "    with rio.open(\"results.tif\", \"w\", **profile) as dst:\n",
    "        dst.write(st.read())\n",
    "\n",
    "for t in result_tiles:\n",
    "    local_file = t.split(\"/\")[-1]\n",
    "    os.remove(local_file)\n",
    "os.remove(\"results.lst\")\n",
    "os.remove(\"results.vrt\")\n",
    "blob = Blob.from_string(f\"gs://{BUCKETNAME}/median.tif\", storage_client)\n",
    "blob.upload_from_filename(\"results.tif\")\n",
    "os.remove(\"results.tif\")\n"
   ]
  },
  {
   "cell_type": "code",
   "execution_count": null,
   "metadata": {},
   "outputs": [],
   "source": [
    "median_result = f\"gs://{BUCKETNAME}/median.tif\"\n",
    "with rio.open(median_result) as st:\n",
    "    overview = st.read(out_shape=(3,512,512))\n",
    "    rp.show(overview)"
   ]
  }
 ],
 "metadata": {
  "kernelspec": {
   "display_name": "Python 3",
   "language": "python",
   "name": "python3"
  },
  "language_info": {
   "codemirror_mode": {
    "name": "ipython",
    "version": 3
   },
   "file_extension": ".py",
   "mimetype": "text/x-python",
   "name": "python",
   "nbconvert_exporter": "python",
   "pygments_lexer": "ipython3",
   "version": "3.12.2"
  }
 },
 "nbformat": 4,
 "nbformat_minor": 2
}
